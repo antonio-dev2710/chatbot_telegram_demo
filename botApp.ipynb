{
 "cells": [
  {
   "cell_type": "code",
   "execution_count": 5,
   "id": "91390665",
   "metadata": {
    "scrolled": false
   },
   "outputs": [
    {
     "name": "stdout",
     "output_type": "stream",
     "text": [
      "Requirement already satisfied: python-telegram-bot in c:\\users\\anton\\anaconda3\\lib\\site-packages (21.9)\n",
      "Requirement already satisfied: httpx~=0.27 in c:\\users\\anton\\anaconda3\\lib\\site-packages (from python-telegram-bot) (0.28.1)\n",
      "Requirement already satisfied: certifi in c:\\users\\anton\\anaconda3\\lib\\site-packages (from httpx~=0.27->python-telegram-bot) (2021.10.8)\n",
      "Requirement already satisfied: anyio in c:\\users\\anton\\anaconda3\\lib\\site-packages (from httpx~=0.27->python-telegram-bot) (2.2.0)\n",
      "Requirement already satisfied: idna in c:\\users\\anton\\anaconda3\\lib\\site-packages (from httpx~=0.27->python-telegram-bot) (3.2)\n",
      "Requirement already satisfied: httpcore==1.* in c:\\users\\anton\\anaconda3\\lib\\site-packages (from httpx~=0.27->python-telegram-bot) (1.0.7)\n",
      "Requirement already satisfied: h11<0.15,>=0.13 in c:\\users\\anton\\anaconda3\\lib\\site-packages (from httpcore==1.*->httpx~=0.27->python-telegram-bot) (0.13.0)\n",
      "Requirement already satisfied: sniffio>=1.1 in c:\\users\\anton\\anaconda3\\lib\\site-packages (from anyio->httpx~=0.27->python-telegram-bot) (1.2.0)\n",
      "Note: you may need to restart the kernel to use updated packages.\n"
     ]
    }
   ],
   "source": [
    "pip install python-telegram-bot --upgrade\n"
   ]
  },
  {
   "cell_type": "code",
   "execution_count": 1,
   "id": "07f8c1f2",
   "metadata": {},
   "outputs": [
    {
     "name": "stdout",
     "output_type": "stream",
     "text": [
      "Requirement already satisfied: python-telegram-bot in c:\\users\\anton\\anaconda3\\lib\\site-packages (21.9)\n",
      "Requirement already satisfied: nest_asyncio in c:\\users\\anton\\anaconda3\\lib\\site-packages (1.5.1)\n",
      "Requirement already satisfied: httpx~=0.27 in c:\\users\\anton\\anaconda3\\lib\\site-packages (from python-telegram-bot) (0.28.1)\n",
      "Requirement already satisfied: certifi in c:\\users\\anton\\anaconda3\\lib\\site-packages (from httpx~=0.27->python-telegram-bot) (2021.10.8)\n",
      "Requirement already satisfied: anyio in c:\\users\\anton\\anaconda3\\lib\\site-packages (from httpx~=0.27->python-telegram-bot) (2.2.0)\n",
      "Requirement already satisfied: httpcore==1.* in c:\\users\\anton\\anaconda3\\lib\\site-packages (from httpx~=0.27->python-telegram-bot) (1.0.7)\n",
      "Requirement already satisfied: idna in c:\\users\\anton\\anaconda3\\lib\\site-packages (from httpx~=0.27->python-telegram-bot) (3.2)\n",
      "Requirement already satisfied: h11<0.15,>=0.13 in c:\\users\\anton\\anaconda3\\lib\\site-packages (from httpcore==1.*->httpx~=0.27->python-telegram-bot) (0.13.0)\n",
      "Requirement already satisfied: sniffio>=1.1 in c:\\users\\anton\\anaconda3\\lib\\site-packages (from anyio->httpx~=0.27->python-telegram-bot) (1.2.0)\n",
      "Note: you may need to restart the kernel to use updated packages.\n"
     ]
    }
   ],
   "source": [
    "pip install python-telegram-bot nest_asyncio\n"
   ]
  },
  {
   "cell_type": "code",
   "execution_count": 3,
   "id": "8ab515ca",
   "metadata": {},
   "outputs": [
    {
     "name": "stdout",
     "output_type": "stream",
     "text": [
      "Requirement already satisfied: httpx in c:\\users\\anton\\anaconda3\\lib\\site-packages (0.28.1)\n",
      "Requirement already satisfied: anyio in c:\\users\\anton\\anaconda3\\lib\\site-packages (from httpx) (2.2.0)\n",
      "Requirement already satisfied: httpcore==1.* in c:\\users\\anton\\anaconda3\\lib\\site-packages (from httpx) (1.0.7)\n",
      "Requirement already satisfied: certifi in c:\\users\\anton\\anaconda3\\lib\\site-packages (from httpx) (2021.10.8)\n",
      "Requirement already satisfied: idna in c:\\users\\anton\\anaconda3\\lib\\site-packages (from httpx) (3.2)\n",
      "Requirement already satisfied: h11<0.15,>=0.13 in c:\\users\\anton\\anaconda3\\lib\\site-packages (from httpcore==1.*->httpx) (0.13.0)\n",
      "Requirement already satisfied: sniffio>=1.1 in c:\\users\\anton\\anaconda3\\lib\\site-packages (from anyio->httpx) (1.2.0)\n",
      "Note: you may need to restart the kernel to use updated packages.\n"
     ]
    }
   ],
   "source": [
    "pip install --upgrade httpx\n"
   ]
  },
  {
   "cell_type": "code",
   "execution_count": 2,
   "id": "7408dea0",
   "metadata": {},
   "outputs": [
    {
     "name": "stdout",
     "output_type": "stream",
     "text": [
      "Requirement already satisfied: anyio in c:\\users\\anton\\anaconda3\\lib\\site-packages (2.2.0)\n",
      "Collecting anyio\n",
      "  Downloading anyio-4.7.0-py3-none-any.whl (93 kB)\n",
      "Requirement already satisfied: idna>=2.8 in c:\\users\\anton\\anaconda3\\lib\\site-packages (from anyio) (3.2)\n",
      "Collecting typing_extensions>=4.5\n",
      "  Downloading typing_extensions-4.12.2-py3-none-any.whl (37 kB)\n",
      "Requirement already satisfied: sniffio>=1.1 in c:\\users\\anton\\anaconda3\\lib\\site-packages (from anyio) (1.2.0)\n",
      "Collecting exceptiongroup>=1.0.2\n",
      "  Downloading exceptiongroup-1.2.2-py3-none-any.whl (16 kB)\n",
      "Installing collected packages: typing-extensions, exceptiongroup, anyio\n",
      "  Attempting uninstall: typing-extensions\n",
      "    Found existing installation: typing-extensions 3.10.0.2\n",
      "    Uninstalling typing-extensions-3.10.0.2:\n",
      "      Successfully uninstalled typing-extensions-3.10.0.2\n",
      "  Attempting uninstall: anyio\n",
      "    Found existing installation: anyio 2.2.0\n",
      "    Uninstalling anyio-2.2.0:\n",
      "      Successfully uninstalled anyio-2.2.0\n",
      "Successfully installed anyio-4.7.0 exceptiongroup-1.2.2 typing-extensions-4.12.2\n",
      "Note: you may need to restart the kernel to use updated packages.\n"
     ]
    }
   ],
   "source": [
    "pip install --upgrade anyio\n"
   ]
  },
  {
   "cell_type": "code",
   "execution_count": null,
   "id": "09834ef5",
   "metadata": {},
   "outputs": [
    {
     "name": "stdout",
     "output_type": "stream",
     "text": [
      "Bot iniciado...\n"
     ]
    }
   ],
   "source": [
    "import nest_asyncio\n",
    "import asyncio\n",
    "from telegram import Update\n",
    "from telegram.ext import Application, CommandHandler, MessageHandler, filters, ContextTypes\n",
    "\n",
    "# Aplicar nest_asyncio para evitar conflitos no Jupyter\n",
    "nest_asyncio.apply()\n",
    "\n",
    "# Função para o comando /start\n",
    "async def start(update: Update, context: ContextTypes.DEFAULT_TYPE):\n",
    "    await update.message.reply_text(\"Olá! Eu sou seu bot. Envie uma mensagem para conversar comigo!\")\n",
    "\n",
    "# Função para responder mensagens\n",
    "async def responder(update: Update, context: ContextTypes.DEFAULT_TYPE):\n",
    "    mensagem_usuario = update.message.text  # Obtém a mensagem enviada pelo usuário\n",
    "    resposta = f\"Você disse: {mensagem_usuario}\"  # Responde repetindo a mensagem do usuário\n",
    "    await update.message.reply_text(resposta)\n",
    "\n",
    "# Função principal para executar o bot\n",
    "async def main():\n",
    "    # Token do seu bot\n",
    "    BOT_TOKEN = \"7855968092:AAH1pPSFsGrGjCensuf2dwoElzgGgusf1L8\"  # Substitua pelo seu token do Bot Telegram\n",
    "\n",
    "    # Criar a aplicação do bot\n",
    "    application = Application.builder().token(BOT_TOKEN).build()\n",
    "\n",
    "    # Adicionar o handler para o comando /start\n",
    "    application.add_handler(CommandHandler(\"start\", start))\n",
    "\n",
    "    # Adicionar o handler para mensagens de texto\n",
    "    application.add_handler(MessageHandler(filters.TEXT & ~filters.COMMAND, responder))\n",
    "\n",
    "    # Iniciar o bot\n",
    "    print(\"Bot iniciado...\")\n",
    "    await application.run_polling()\n",
    "\n",
    "# Executar a função principal usando asyncio.run\n",
    "asyncio.run(main())\n"
   ]
  },
  {
   "cell_type": "code",
   "execution_count": null,
   "id": "8b57d126",
   "metadata": {},
   "outputs": [],
   "source": []
  }
 ],
 "metadata": {
  "kernelspec": {
   "display_name": "Python 3 (ipykernel)",
   "language": "python",
   "name": "python3"
  },
  "language_info": {
   "codemirror_mode": {
    "name": "ipython",
    "version": 3
   },
   "file_extension": ".py",
   "mimetype": "text/x-python",
   "name": "python",
   "nbconvert_exporter": "python",
   "pygments_lexer": "ipython3",
   "version": "3.9.7"
  }
 },
 "nbformat": 4,
 "nbformat_minor": 5
}
